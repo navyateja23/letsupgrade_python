{
  "nbformat": 4,
  "nbformat_minor": 0,
  "metadata": {
    "colab": {
      "name": "Assignment3.ipynb",
      "provenance": [],
      "collapsed_sections": []
    },
    "kernelspec": {
      "name": "python3",
      "display_name": "Python 3"
    }
  },
  "cells": [
    {
      "cell_type": "code",
      "metadata": {
        "colab": {
          "base_uri": "https://localhost:8080/"
        },
        "id": "c7sRMRSarGsV",
        "outputId": "40d6d0b8-537e-4ae5-8790-9baf52fd2c21"
      },
      "source": [
        "def isPrime(n):\r\n",
        " \r\n",
        "    # Corner case\r\n",
        "    if (n <= 1):\r\n",
        "        return False\r\n",
        " \r\n",
        "    # Check from 2 to n-1\r\n",
        "    for i in range(2, n):\r\n",
        "        if (n % i == 0):\r\n",
        "            return False\r\n",
        " \r\n",
        "    return True\r\n",
        "\r\n",
        "isPrime(7)\r\n",
        " \r\n",
        " \r\n"
      ],
      "execution_count": 2,
      "outputs": [
        {
          "output_type": "execute_result",
          "data": {
            "text/plain": [
              "True"
            ]
          },
          "metadata": {
            "tags": []
          },
          "execution_count": 2
        }
      ]
    },
    {
      "cell_type": "code",
      "metadata": {
        "id": "ZcrgnKw3rKnm"
      },
      "source": [
        ""
      ],
      "execution_count": null,
      "outputs": []
    }
  ]
}