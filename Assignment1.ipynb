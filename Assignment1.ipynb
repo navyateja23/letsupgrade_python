{
  "nbformat": 4,
  "nbformat_minor": 0,
  "metadata": {
    "colab": {
      "name": "Assignment1.ipynb",
      "provenance": [],
      "collapsed_sections": []
    },
    "kernelspec": {
      "name": "python3",
      "display_name": "Python 3"
    }
  },
  "cells": [
    {
      "cell_type": "markdown",
      "metadata": {
        "id": "orVCRviDiDaz"
      },
      "source": [
        "#  ASSIGNMENT QUESTIONS\r\n",
        "    Q1: 5 List's in-built funtions "
      ]
    },
    {
      "cell_type": "code",
      "metadata": {
        "id": "lXb5HfKJead5",
        "colab": {
          "base_uri": "https://localhost:8080/"
        },
        "outputId": "de8a0cfb-1bab-42ff-bbd2-f5cecd7c8e38"
      },
      "source": [
        "lst=['navya',22,33,678,['puppy',67]]\r\n",
        "\r\n",
        "lst.append('7')\r\n",
        "print(lst)\r\n",
        "['navya', 22, 33, 678, ['puppy', 67], '7']\r\n",
        "\r\n",
        "\r\n",
        "lst.index('navya')\r\n",
        "\r\n",
        "lst.remove(22)\r\n",
        "print(lst)\r\n",
        "\r\n",
        "lst.reverse()\r\n",
        "print(lst)\r\n",
        "\r\n",
        "lst.extend('navya')\r\n",
        "print(lst)\r\n"
      ],
      "execution_count": null,
      "outputs": [
        {
          "output_type": "stream",
          "text": [
            "['navya', 22, 33, 678, ['puppy', 67], '7']\n",
            "['navya', 33, 678, ['puppy', 67], '7']\n",
            "['7', ['puppy', 67], 678, 33, 'navya']\n",
            "['7', ['puppy', 67], 678, 33, 'navya', 'n', 'a', 'v', 'y', 'a']\n"
          ],
          "name": "stdout"
        }
      ]
    },
    {
      "cell_type": "markdown",
      "metadata": {
        "id": "dgbrynrSiwgE"
      },
      "source": [
        "Q2: 5 Dictionaries in-built functions\r\n"
      ]
    },
    {
      "cell_type": "code",
      "metadata": {
        "id": "fa-v4umxi9tr"
      },
      "source": [
        "dict={\"Name\":\"navya\",\"Age\":20,\"Group\":\"MSCs\",\"Loc\":\"hyd\"}\r\n",
        "\r\n",
        "dict.get(\"Name\")\r\n",
        "dict.get(\"Age\")\r\n",
        "dict.get(\"Group\")\r\n",
        "dict.get(\"Loc\")\r\n",
        "\r\n",
        "dict.keys()\r\n",
        "\r\n",
        "dict.items()\r\n",
        "print(dict)\r\n",
        "\r\n",
        "dict.clear()\r\n",
        "print(dict)\r\n",
        "\r\n",
        "      "
      ],
      "execution_count": null,
      "outputs": []
    }
  ]
}