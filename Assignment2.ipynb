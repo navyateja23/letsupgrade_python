{
  "nbformat": 4,
  "nbformat_minor": 0,
  "metadata": {
    "colab": {
      "name": "Assignment2.ipynb",
      "provenance": [],
      "collapsed_sections": []
    },
    "kernelspec": {
      "name": "python3",
      "display_name": "Python 3"
    }
  },
  "cells": [
    {
      "cell_type": "code",
      "metadata": {
        "id": "A-WHvpmAHoxW"
      },
      "source": [
        ""
      ],
      "execution_count": null,
      "outputs": []
    },
    {
      "cell_type": "markdown",
      "metadata": {
        "id": "9fzihJRF4Zuk"
      },
      "source": [
        ""
      ]
    },
    {
      "cell_type": "code",
      "metadata": {
        "colab": {
          "base_uri": "https://localhost:8080/"
        },
        "cellView": "code",
        "id": "Vmap8ef4qx1G",
        "outputId": "76a5b7f1-1f49-4ce0-c00a-5f43e861c6b8"
      },
      "source": [
        "\n",
        "height=6000\n",
        "\n",
        "\n",
        "if height <= 1000:\n",
        "  print(\"land the flight..\")\n",
        "elif height > 1000 and height > 5000:\n",
        "  print(\"come down to 1000ft\")\n",
        "else :\n",
        "  print(\"goo around and try again\")\n",
        "\n"
      ],
      "execution_count": null,
      "outputs": [
        {
          "output_type": "stream",
          "text": [
            "come down to 1000ft\n"
          ],
          "name": "stdout"
        }
      ]
    },
    {
      "cell_type": "code",
      "metadata": {
        "id": "7_C8B9dis0I2"
      },
      "source": [
        ""
      ],
      "execution_count": null,
      "outputs": []
    },
    {
      "cell_type": "markdown",
      "metadata": {
        "id": "gDAUQha3HtkX"
      },
      "source": [
        "**Assignmet**"
      ]
    }
  ]
}